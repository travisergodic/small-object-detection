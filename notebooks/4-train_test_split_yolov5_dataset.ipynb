{
 "cells": [
  {
   "cell_type": "code",
   "execution_count": 1,
   "id": "9cbfbc38",
   "metadata": {},
   "outputs": [],
   "source": [
    "import random\n",
    "import shutil\n",
    "from pathlib import Path"
   ]
  },
  {
   "cell_type": "code",
   "execution_count": 2,
   "id": "85f5a96f",
   "metadata": {},
   "outputs": [],
   "source": [
    "train_size = 850\n",
    "test_size = 150\n",
    "src_image_dir = '../images/'\n",
    "src_label_dir = '../labels/'\n",
    "reg_pattern = '*.png'\n",
    "train_image_dst = '../yolov5_new/images/train'\n",
    "train_label_dst = '../yolov5_new/labels/train'\n",
    "test_image_dst = '../yolov5_new/images/val'\n",
    "test_label_dst = '../yolov5_new/labels/val'"
   ]
  },
  {
   "cell_type": "code",
   "execution_count": 3,
   "id": "eb4b84b0",
   "metadata": {},
   "outputs": [
    {
     "name": "stdout",
     "output_type": "stream",
     "text": [
      "length of image list: 1000\n",
      "length of label list: 1000\n"
     ]
    }
   ],
   "source": [
    "random.seed(42)\n",
    "\n",
    "img_list = sorted(list(Path(src_image_dir).glob(reg_pattern)))\n",
    "label_list = sorted(list(Path(src_label_dir).glob('*.txt')))\n",
    "\n",
    "print(f\"length of image list: {len(img_list)}\")\n",
    "print(f\"length of label list: {len(label_list)}\")\n",
    "\n",
    "permutation_indices = list(range(1000))\n",
    "random.shuffle(permutation_indices)\n",
    "\n",
    "train_indices = permutation_indices[:train_size]\n",
    "test_indices = permutation_indices[train_size:train_size+test_size]"
   ]
  },
  {
   "cell_type": "code",
   "execution_count": 4,
   "id": "868d521d",
   "metadata": {},
   "outputs": [],
   "source": [
    "# mkdir\n",
    "Path(train_image_dst).mkdir(exist_ok=False, parents=True)\n",
    "Path(train_label_dst).mkdir(exist_ok=False, parents=True)\n",
    "Path(test_image_dst).mkdir(exist_ok=False, parents=True)\n",
    "Path(test_label_dst).mkdir(exist_ok=False, parents=True)"
   ]
  },
  {
   "cell_type": "code",
   "execution_count": 5,
   "id": "7250df75",
   "metadata": {},
   "outputs": [],
   "source": [
    "for index in train_indices:\n",
    "    img_path, anno_path = img_list[index], label_list[index]\n",
    "    shutil.copy(img_path, str(Path(train_image_dst) / img_path.name))\n",
    "    shutil.copy(anno_path, str(Path(train_label_dst) / anno_path.name))"
   ]
  },
  {
   "cell_type": "code",
   "execution_count": 6,
   "id": "ae9c3fd1",
   "metadata": {},
   "outputs": [],
   "source": [
    "for index in test_indices:\n",
    "    img_path, anno_path = img_list[index], label_list[index]\n",
    "    shutil.copy(img_path, str(Path(test_image_dst) / img_path.name))\n",
    "    shutil.copy(anno_path, str(Path(test_label_dst) / anno_path.name))"
   ]
  }
 ],
 "metadata": {
  "kernelspec": {
   "display_name": "Python 3 (ipykernel)",
   "language": "python",
   "name": "python3"
  },
  "language_info": {
   "codemirror_mode": {
    "name": "ipython",
    "version": 3
   },
   "file_extension": ".py",
   "mimetype": "text/x-python",
   "name": "python",
   "nbconvert_exporter": "python",
   "pygments_lexer": "ipython3",
   "version": "3.10.0"
  }
 },
 "nbformat": 4,
 "nbformat_minor": 5
}
