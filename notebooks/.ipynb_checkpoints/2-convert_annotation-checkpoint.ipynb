{
 "cells": [
  {
   "cell_type": "code",
   "execution_count": 1,
   "id": "e3856652",
   "metadata": {},
   "outputs": [
    {
     "name": "stdout",
     "output_type": "stream",
     "text": [
      "/Users/hutaiwei/Documents/專案/SOD/github_project\n"
     ]
    }
   ],
   "source": [
    "%cd .."
   ]
  },
  {
   "cell_type": "code",
   "execution_count": 2,
   "id": "99d08c6f",
   "metadata": {},
   "outputs": [],
   "source": [
    "from src.convert_annotation import convert_to_yolov5"
   ]
  },
  {
   "cell_type": "code",
   "execution_count": 3,
   "id": "244fe524",
   "metadata": {},
   "outputs": [],
   "source": [
    "# config\n",
    "image_dir = '../Training Dataset_v5/train'\n",
    "anno_dir = '../Training Dataset_v5/train'\n",
    "dst = './'\n",
    "format_string = '{:,.5f}'"
   ]
  },
  {
   "cell_type": "code",
   "execution_count": 4,
   "id": "ed69db3d",
   "metadata": {},
   "outputs": [
    {
     "name": "stderr",
     "output_type": "stream",
     "text": [
      "2000it [00:13, 152.03it/s]\n"
     ]
    }
   ],
   "source": [
    "# convert [class, x, y, w, h] to yolov5 format\n",
    "convert_to_yolov5(\n",
    "    image_dir=image_dir, anno_dir=anno_dir, dst=dst, format_string=format_string\n",
    ")"
   ]
  }
 ],
 "metadata": {
  "kernelspec": {
   "display_name": "Python 3 (ipykernel)",
   "language": "python",
   "name": "python3"
  },
  "language_info": {
   "codemirror_mode": {
    "name": "ipython",
    "version": 3
   },
   "file_extension": ".py",
   "mimetype": "text/x-python",
   "name": "python",
   "nbconvert_exporter": "python",
   "pygments_lexer": "ipython3",
   "version": "3.10.0"
  }
 },
 "nbformat": 4,
 "nbformat_minor": 5
}
