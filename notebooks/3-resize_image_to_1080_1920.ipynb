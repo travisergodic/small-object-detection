{
 "cells": [
  {
   "cell_type": "code",
   "execution_count": 1,
   "id": "ccba0bdb",
   "metadata": {},
   "outputs": [],
   "source": [
    "from pathlib import Path\n",
    "\n",
    "import cv2\n",
    "import imagesize"
   ]
  },
  {
   "cell_type": "code",
   "execution_count": 2,
   "id": "4a4ebd65",
   "metadata": {},
   "outputs": [],
   "source": [
    "for img_path in Path('../images/').glob('*.png'):\n",
    "    if imagesize.get(str(img_path)) != (1920, 1080):\n",
    "        img = cv2.imread(str(img_path))\n",
    "        img = cv2.resize(img, (1920, 1080), interpolation=cv2.INTER_LINEAR)\n",
    "        cv2.imwrite(str(img_path), img)"
   ]
  }
 ],
 "metadata": {
  "kernelspec": {
   "display_name": "Python 3 (ipykernel)",
   "language": "python",
   "name": "python3"
  },
  "language_info": {
   "codemirror_mode": {
    "name": "ipython",
    "version": 3
   },
   "file_extension": ".py",
   "mimetype": "text/x-python",
   "name": "python",
   "nbconvert_exporter": "python",
   "pygments_lexer": "ipython3",
   "version": "3.10.0"
  }
 },
 "nbformat": 4,
 "nbformat_minor": 5
}
