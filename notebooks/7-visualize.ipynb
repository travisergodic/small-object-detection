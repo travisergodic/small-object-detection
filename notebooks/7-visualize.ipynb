{
 "cells": [
  {
   "cell_type": "code",
   "execution_count": null,
   "id": "718f08e9",
   "metadata": {},
   "outputs": [],
   "source": [
    "import os\n",
    "import fiftyone as fo"
   ]
  },
  {
   "cell_type": "markdown",
   "id": "e21ba252",
   "metadata": {},
   "source": [
    "## YOLO format visualize"
   ]
  },
  {
   "cell_type": "code",
   "execution_count": null,
   "id": "e10294cd",
   "metadata": {},
   "outputs": [],
   "source": [
    "# A name for the dataset\n",
    "name = \"small-object-dataset-yolo\"\n",
    "dataset_dir = \"../../slice_yolov5_600_624_0.25_0.25/\"\n",
    "# The splits to load\n",
    "splits = [\"train\", \"val\"]\n",
    "\n",
    "# Load the dataset, using tags to mark the samples in each split\n",
    "dataset = fo.Dataset(name)\n",
    "for split in splits:\n",
    "    dataset.add_dir(\n",
    "        dataset_dir=dataset_dir,\n",
    "        dataset_type=fo.types.YOLOv5Dataset,\n",
    "        split=split,\n",
    "        tags=split\n",
    "    )"
   ]
  },
  {
   "cell_type": "code",
   "execution_count": null,
   "id": "24093509",
   "metadata": {},
   "outputs": [],
   "source": [
    "# launch app\n",
    "session = fo.launch_app(dataset)"
   ]
  },
  {
   "cell_type": "markdown",
   "id": "38912943",
   "metadata": {},
   "source": [
    "## COCO format visualize"
   ]
  },
  {
   "cell_type": "code",
   "execution_count": null,
   "id": "bdc3cf6d",
   "metadata": {},
   "outputs": [],
   "source": [
    "name = \"small-object-dataset-coco\"\n",
    "dataset_dir = \"../../slice_coco_600_624_0.25_0.25/\"\n",
    "\n",
    "# The splits to load\n",
    "splits = [\"train\", \"val\"]\n",
    "\n",
    "# Load the dataset, using tags to mark the samples in each split\n",
    "dataset = fo.Dataset(name)\n",
    "for split in splits:\n",
    "    dataset.add_dir(\n",
    "        dataset_dir=os.path.join(dataset_dir, split),\n",
    "        dataset_type=fo.types.COCODetectionDataset,\n",
    "        tags=split\n",
    "    )"
   ]
  },
  {
   "cell_type": "code",
   "execution_count": null,
   "id": "5e9e69ec",
   "metadata": {},
   "outputs": [],
   "source": [
    "# launch app\n",
    "session = fo.launch_app(dataset)"
   ]
  }
 ],
 "metadata": {
  "kernelspec": {
   "display_name": "Python 3 (ipykernel)",
   "language": "python",
   "name": "python3"
  },
  "language_info": {
   "codemirror_mode": {
    "name": "ipython",
    "version": 3
   },
   "file_extension": ".py",
   "mimetype": "text/x-python",
   "name": "python",
   "nbconvert_exporter": "python",
   "pygments_lexer": "ipython3",
   "version": "3.10.0"
  }
 },
 "nbformat": 4,
 "nbformat_minor": 5
}
