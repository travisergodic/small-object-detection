{
 "cells": [
  {
   "cell_type": "code",
   "execution_count": 1,
   "id": "b03b25f5",
   "metadata": {},
   "outputs": [],
   "source": [
    "from pathlib import Path\n",
    "from collections import defaultdict\n",
    "\n",
    "import imagesize\n",
    "import numpy as np\n",
    "import pandas as pd"
   ]
  },
  {
   "cell_type": "markdown",
   "id": "91518ff7",
   "metadata": {},
   "source": [
    "## image and annotation number"
   ]
  },
  {
   "cell_type": "code",
   "execution_count": 2,
   "id": "969fc54e",
   "metadata": {},
   "outputs": [
    {
     "name": "stdout",
     "output_type": "stream",
     "text": [
      "image number: 1000\n",
      "annotation number: 1000\n"
     ]
    }
   ],
   "source": [
    "root = Path('../../Training Dataset_v5/train')\n",
    "\n",
    "print(\"image number:\", len(list(root.glob('*.png'))))\n",
    "print(\"annotation number:\", len(list(root.glob('*.txt'))))"
   ]
  },
  {
   "cell_type": "markdown",
   "id": "dd1d3356",
   "metadata": {},
   "source": [
    "## image size distribution"
   ]
  },
  {
   "cell_type": "code",
   "execution_count": 3,
   "id": "2c3fcfe6",
   "metadata": {},
   "outputs": [
    {
     "name": "stdout",
     "output_type": "stream",
     "text": [
      "image size distribution: {(1920, 1080): 881, (1344, 720): 119}\n"
     ]
    }
   ],
   "source": [
    "image_size_dict = defaultdict(int)\n",
    "\n",
    "for path in root.glob('*.png'):\n",
    "    image_size_dict[imagesize.get(str(path))] +=1\n",
    "\n",
    "print(\"image size distribution:\", dict(image_size_dict))"
   ]
  },
  {
   "cell_type": "markdown",
   "id": "1b4a0dd2",
   "metadata": {},
   "source": [
    "## area zero objects"
   ]
  },
  {
   "cell_type": "code",
   "execution_count": 4,
   "id": "b070f598",
   "metadata": {},
   "outputs": [
    {
     "data": {
      "text/html": [
       "<div>\n",
       "<style scoped>\n",
       "    .dataframe tbody tr th:only-of-type {\n",
       "        vertical-align: middle;\n",
       "    }\n",
       "\n",
       "    .dataframe tbody tr th {\n",
       "        vertical-align: top;\n",
       "    }\n",
       "\n",
       "    .dataframe thead th {\n",
       "        text-align: right;\n",
       "    }\n",
       "</style>\n",
       "<table border=\"1\" class=\"dataframe\">\n",
       "  <thead>\n",
       "    <tr style=\"text-align: right;\">\n",
       "      <th></th>\n",
       "      <th>class</th>\n",
       "      <th>x</th>\n",
       "      <th>y</th>\n",
       "      <th>w</th>\n",
       "      <th>h</th>\n",
       "      <th>area</th>\n",
       "    </tr>\n",
       "  </thead>\n",
       "  <tbody>\n",
       "    <tr>\n",
       "      <th>33177</th>\n",
       "      <td>2</td>\n",
       "      <td>227</td>\n",
       "      <td>98</td>\n",
       "      <td>0</td>\n",
       "      <td>1</td>\n",
       "      <td>0</td>\n",
       "    </tr>\n",
       "  </tbody>\n",
       "</table>\n",
       "</div>"
      ],
      "text/plain": [
       "      class    x   y  w  h area\n",
       "33177     2  227  98  0  1    0"
      ]
     },
     "execution_count": 4,
     "metadata": {},
     "output_type": "execute_result"
    }
   ],
   "source": [
    "anno_list = [] \n",
    "\n",
    "for anno_path in root.glob('*.txt'):\n",
    "    anno_list.append(pd.read_csv(str(anno_path)).values)\n",
    "    \n",
    "anno_df = pd.DataFrame(\n",
    "    np.concatenate(anno_list, axis=0), \n",
    "    columns=['class', 'x', 'y', 'w', 'h']\n",
    ")\n",
    "\n",
    "anno_df['area'] = anno_df['w'] * anno_df['h']\n",
    "anno_df.loc[anno_df['area'] == 0, :]"
   ]
  },
  {
   "cell_type": "code",
   "execution_count": null,
   "id": "76304974",
   "metadata": {},
   "outputs": [],
   "source": []
  }
 ],
 "metadata": {
  "kernelspec": {
   "display_name": "Python 3 (ipykernel)",
   "language": "python",
   "name": "python3"
  },
  "language_info": {
   "codemirror_mode": {
    "name": "ipython",
    "version": 3
   },
   "file_extension": ".py",
   "mimetype": "text/x-python",
   "name": "python",
   "nbconvert_exporter": "python",
   "pygments_lexer": "ipython3",
   "version": "3.10.0"
  }
 },
 "nbformat": 4,
 "nbformat_minor": 5
}
