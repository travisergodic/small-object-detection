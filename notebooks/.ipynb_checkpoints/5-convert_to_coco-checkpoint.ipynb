{
 "cells": [
  {
   "cell_type": "code",
   "execution_count": 1,
   "id": "cd958bb0",
   "metadata": {},
   "outputs": [],
   "source": [
    "import json\n",
    "\n",
    "import os\n",
    "import cv2\n",
    "import matplotlib.pyplot as plt\n",
    "\n",
    "from globox import Annotation, AnnotationSet, BoundingBox"
   ]
  },
  {
   "cell_type": "code",
   "execution_count": 2,
   "id": "276cec70",
   "metadata": {},
   "outputs": [],
   "source": [
    "train_image_folder = '../yolov5_new/images/train/'\n",
    "train_label_folder = '../yolov5_new/labels/train/'\n",
    "test_image_folder = '../yolov5_new/images/val/'\n",
    "test_label_folder = '../yolov5_new/labels/val/'\n",
    "suffix = '.png'\n",
    "\n",
    "# label to id & train_imageid_to_id & test_imageid_to_id\n",
    "label_to_id = label_to_id = {'0': 0, '1': 1, '2': 2, '3': 3}"
   ]
  },
  {
   "cell_type": "code",
   "execution_count": 3,
   "id": "ec0b2b1b",
   "metadata": {},
   "outputs": [],
   "source": [
    "train_imageid_to_id = {\n",
    "    image_name:i for i, image_name in \\\n",
    "    enumerate(sorted(os.listdir(train_image_folder)))\n",
    "}\n",
    "\n",
    "test_imageid_to_id = {\n",
    "    image_name:i for i, image_name in \\\n",
    "    enumerate(sorted(os.listdir(test_image_folder)), start=850)\n",
    "}"
   ]
  },
  {
   "cell_type": "code",
   "execution_count": 4,
   "id": "c63c03b8",
   "metadata": {},
   "outputs": [],
   "source": [
    "yolo_train = AnnotationSet.from_yolo_v5(\n",
    "    folder=train_label_folder,\n",
    "    image_folder=train_image_folder, \n",
    "    image_extension=suffix\n",
    ")\n",
    "\n",
    "yolo_val = AnnotationSet.from_yolo_v5(\n",
    "    folder=test_label_folder,\n",
    "    image_folder=test_image_folder,\n",
    "    image_extension=suffix\n",
    ")"
   ]
  },
  {
   "cell_type": "code",
   "execution_count": 5,
   "id": "08f93f2e",
   "metadata": {},
   "outputs": [
    {
     "data": {
      "text/html": [
       "<pre style=\"white-space:pre;overflow-x:auto;line-height:normal;font-family:Menlo,'DejaVu Sans Mono',consolas,'Courier New',monospace\"><span style=\"font-style: italic\">      Database Stats      </span>\n",
       "┏━━━━━━━┳━━━━━━━━┳━━━━━━━┓\n",
       "┃<span style=\"font-weight: bold\"> Label </span>┃<span style=\"font-weight: bold\"> Images </span>┃<span style=\"font-weight: bold\"> Boxes </span>┃\n",
       "┡━━━━━━━╇━━━━━━━━╇━━━━━━━┩\n",
       "│ 0     │    818 │ 21135 │\n",
       "│ 1     │    516 │  1604 │\n",
       "│ 2     │    556 │ 10359 │\n",
       "│ 3     │    488 │  5126 │\n",
       "├───────┼────────┼───────┤\n",
       "│<span style=\"font-weight: bold\"> Total </span>│<span style=\"font-weight: bold\">    850 </span>│<span style=\"font-weight: bold\"> 38224 </span>│\n",
       "└───────┴────────┴───────┘\n",
       "</pre>\n"
      ],
      "text/plain": [
       "\u001b[3m      Database Stats      \u001b[0m\n",
       "┏━━━━━━━┳━━━━━━━━┳━━━━━━━┓\n",
       "┃\u001b[1m \u001b[0m\u001b[1mLabel\u001b[0m\u001b[1m \u001b[0m┃\u001b[1m \u001b[0m\u001b[1mImages\u001b[0m\u001b[1m \u001b[0m┃\u001b[1m \u001b[0m\u001b[1mBoxes\u001b[0m\u001b[1m \u001b[0m┃\n",
       "┡━━━━━━━╇━━━━━━━━╇━━━━━━━┩\n",
       "│ 0     │    818 │ 21135 │\n",
       "│ 1     │    516 │  1604 │\n",
       "│ 2     │    556 │ 10359 │\n",
       "│ 3     │    488 │  5126 │\n",
       "├───────┼────────┼───────┤\n",
       "│\u001b[1m \u001b[0m\u001b[1mTotal\u001b[0m\u001b[1m \u001b[0m│\u001b[1m \u001b[0m\u001b[1m   850\u001b[0m\u001b[1m \u001b[0m│\u001b[1m \u001b[0m\u001b[1m38224\u001b[0m\u001b[1m \u001b[0m│\n",
       "└───────┴────────┴───────┘\n"
      ]
     },
     "metadata": {},
     "output_type": "display_data"
    }
   ],
   "source": [
    "yolo_train.show_stats()"
   ]
  },
  {
   "cell_type": "code",
   "execution_count": 6,
   "id": "3ae9d83e",
   "metadata": {},
   "outputs": [
    {
     "data": {
      "text/html": [
       "<pre style=\"white-space:pre;overflow-x:auto;line-height:normal;font-family:Menlo,'DejaVu Sans Mono',consolas,'Courier New',monospace\"><span style=\"font-style: italic\">      Database Stats      </span>\n",
       "┏━━━━━━━┳━━━━━━━━┳━━━━━━━┓\n",
       "┃<span style=\"font-weight: bold\"> Label </span>┃<span style=\"font-weight: bold\"> Images </span>┃<span style=\"font-weight: bold\"> Boxes </span>┃\n",
       "┡━━━━━━━╇━━━━━━━━╇━━━━━━━┩\n",
       "│ 0     │    142 │  3738 │\n",
       "│ 1     │     89 │   259 │\n",
       "│ 2     │    105 │  2080 │\n",
       "│ 3     │     93 │   889 │\n",
       "├───────┼────────┼───────┤\n",
       "│<span style=\"font-weight: bold\"> Total </span>│<span style=\"font-weight: bold\">    150 </span>│<span style=\"font-weight: bold\">  6966 </span>│\n",
       "└───────┴────────┴───────┘\n",
       "</pre>\n"
      ],
      "text/plain": [
       "\u001b[3m      Database Stats      \u001b[0m\n",
       "┏━━━━━━━┳━━━━━━━━┳━━━━━━━┓\n",
       "┃\u001b[1m \u001b[0m\u001b[1mLabel\u001b[0m\u001b[1m \u001b[0m┃\u001b[1m \u001b[0m\u001b[1mImages\u001b[0m\u001b[1m \u001b[0m┃\u001b[1m \u001b[0m\u001b[1mBoxes\u001b[0m\u001b[1m \u001b[0m┃\n",
       "┡━━━━━━━╇━━━━━━━━╇━━━━━━━┩\n",
       "│ 0     │    142 │  3738 │\n",
       "│ 1     │     89 │   259 │\n",
       "│ 2     │    105 │  2080 │\n",
       "│ 3     │     93 │   889 │\n",
       "├───────┼────────┼───────┤\n",
       "│\u001b[1m \u001b[0m\u001b[1mTotal\u001b[0m\u001b[1m \u001b[0m│\u001b[1m \u001b[0m\u001b[1m   150\u001b[0m\u001b[1m \u001b[0m│\u001b[1m \u001b[0m\u001b[1m 6966\u001b[0m\u001b[1m \u001b[0m│\n",
       "└───────┴────────┴───────┘\n"
      ]
     },
     "metadata": {},
     "output_type": "display_data"
    }
   ],
   "source": [
    "yolo_val.show_stats()"
   ]
  },
  {
   "cell_type": "code",
   "execution_count": 7,
   "id": "eeaa4279",
   "metadata": {},
   "outputs": [],
   "source": [
    "yolo_train.save_coco(\n",
    "    '../train2017.json', label_to_id=label_to_id, imageid_to_id=train_imageid_to_id\n",
    ")\n",
    "\n",
    "yolo_val.save_coco(\n",
    "    '../val2017.json', label_to_id=label_to_id, imageid_to_id=test_imageid_to_id\n",
    ")"
   ]
  }
 ],
 "metadata": {
  "kernelspec": {
   "display_name": "Python 3 (ipykernel)",
   "language": "python",
   "name": "python3"
  },
  "language_info": {
   "codemirror_mode": {
    "name": "ipython",
    "version": 3
   },
   "file_extension": ".py",
   "mimetype": "text/x-python",
   "name": "python",
   "nbconvert_exporter": "python",
   "pygments_lexer": "ipython3",
   "version": "3.10.0"
  }
 },
 "nbformat": 4,
 "nbformat_minor": 5
}
