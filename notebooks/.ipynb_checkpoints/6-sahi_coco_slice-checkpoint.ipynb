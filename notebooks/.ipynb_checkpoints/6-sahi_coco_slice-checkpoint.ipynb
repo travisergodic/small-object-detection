{
 "cells": [
  {
   "cell_type": "code",
   "execution_count": null,
   "id": "a2a53429",
   "metadata": {},
   "outputs": [],
   "source": [
    "from sahi.slicing import slice_image\n",
    "from sahi.slicing import slice_coco"
   ]
  },
  {
   "cell_type": "code",
   "execution_count": null,
   "id": "e13e9114",
   "metadata": {},
   "outputs": [],
   "source": [
    "slice_height = 1080\n",
    "slice_width = 1100\n",
    "overlap_height_ratio = 0.25\n",
    "overlap_width_ratio = 0.25\n",
    "min_area_ratio = 0.3"
   ]
  },
  {
   "cell_type": "code",
   "execution_count": null,
   "id": "f93f120f",
   "metadata": {},
   "outputs": [],
   "source": [
    "coco_annotation_file_path = '../train2017.json'\n",
    "image_dir = '../yolov5_new/images/train/'\n",
    "output_coco_annotation_file_name = 'train2017'\n",
    "output_dir = f'../slice_coco_{slice_width}_{slice_height}_{overlap_width_ratio}_{overlap_height_ratio}/train/'"
   ]
  },
  {
   "cell_type": "code",
   "execution_count": null,
   "id": "3e8c24fe",
   "metadata": {},
   "outputs": [],
   "source": [
    "coco_dict, coco_path = slice_coco(\n",
    "    coco_annotation_file_path=coco_annotation_file_path,\n",
    "    image_dir=image_dir,\n",
    "    output_coco_annotation_file_name=output_coco_annotation_file_name,\n",
    "    output_dir=output_dir,\n",
    "    slice_height=slice_height,\n",
    "    slice_width=slice_width,\n",
    "    overlap_height_ratio=overlap_height_ratio,\n",
    "    overlap_width_ratio=overlap_width_ratio,\n",
    "    min_area_ratio=min_area_ratio \n",
    ")"
   ]
  },
  {
   "cell_type": "code",
   "execution_count": null,
   "id": "0ca78eba",
   "metadata": {},
   "outputs": [],
   "source": [
    "coco_annotation_file_path = '../val2017.json'\n",
    "image_dir = '../yolov5_new/images/val/'\n",
    "output_coco_annotation_file_name = 'val2017'\n",
    "output_dir = f'../slice_coco_{slice_width}_{slice_height}_{overlap_width_ratio}_{overlap_height_ratio}/val/'"
   ]
  },
  {
   "cell_type": "code",
   "execution_count": null,
   "id": "20d1ad9a",
   "metadata": {},
   "outputs": [],
   "source": [
    "coco_dict, coco_path = slice_coco(\n",
    "    coco_annotation_file_path=coco_annotation_file_path,\n",
    "    image_dir=image_dir,\n",
    "    output_coco_annotation_file_name=output_coco_annotation_file_name,\n",
    "    output_dir=output_dir,\n",
    "    slice_height=slice_height,\n",
    "    slice_width=slice_width,\n",
    "    overlap_height_ratio=overlap_height_ratio,\n",
    "    overlap_width_ratio=overlap_width_ratio,\n",
    "    min_area_ratio=min_area_ratio \n",
    ")"
   ]
  },
  {
   "cell_type": "code",
   "execution_count": null,
   "id": "338164bd",
   "metadata": {},
   "outputs": [],
   "source": []
  }
 ],
 "metadata": {
  "kernelspec": {
   "display_name": "Python 3 (ipykernel)",
   "language": "python",
   "name": "python3"
  },
  "language_info": {
   "codemirror_mode": {
    "name": "ipython",
    "version": 3
   },
   "file_extension": ".py",
   "mimetype": "text/x-python",
   "name": "python",
   "nbconvert_exporter": "python",
   "pygments_lexer": "ipython3",
   "version": "3.10.0"
  }
 },
 "nbformat": 4,
 "nbformat_minor": 5
}
