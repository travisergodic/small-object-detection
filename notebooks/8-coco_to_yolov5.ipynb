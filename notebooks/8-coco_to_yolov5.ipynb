{
 "cells": [
  {
   "cell_type": "code",
   "execution_count": null,
   "id": "3dd6ff20",
   "metadata": {},
   "outputs": [],
   "source": [
    "from sahi.utils.coco import Coco, export_coco_as_yolov5"
   ]
  },
  {
   "cell_type": "code",
   "execution_count": null,
   "id": "56354898",
   "metadata": {},
   "outputs": [],
   "source": [
    "# init Coco object\n",
    "train_coco = Coco.from_coco_dict_or_path(\n",
    "    \"../data/slice_coco_600_624_0.25_0.25/annotations/train2017.json\", \n",
    "    image_dir=\"../data/slice_coco_600_624_0.25_0.25/train/\")\n",
    "val_coco = Coco.from_coco_dict_or_path(\n",
    "    \"../data/slice_coco_600_624_0.25_0.25/annotations/val2017.json\", \n",
    "    image_dir=\"../data/slice_coco_600_624_0.25_0.25/val/\")\n",
    "\n",
    "# export converted YoloV5 formatted dataset into given output_dir with given train/val split\n",
    "data_yml_path = export_coco_as_yolov5(\n",
    "  output_dir=\"../data/slice_yolov5_600_624_0.25_0.25\",\n",
    "  train_coco=train_coco,\n",
    "  val_coco=val_coco\n",
    ")"
   ]
  }
 ],
 "metadata": {
  "kernelspec": {
   "display_name": "Python 3 (ipykernel)",
   "language": "python",
   "name": "python3"
  },
  "language_info": {
   "codemirror_mode": {
    "name": "ipython",
    "version": 3
   },
   "file_extension": ".py",
   "mimetype": "text/x-python",
   "name": "python",
   "nbconvert_exporter": "python",
   "pygments_lexer": "ipython3",
   "version": "3.10.0"
  }
 },
 "nbformat": 4,
 "nbformat_minor": 5
}
